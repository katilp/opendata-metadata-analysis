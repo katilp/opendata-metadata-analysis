{
 "cells": [
  {
   "cell_type": "code",
   "execution_count": 1,
   "metadata": {},
   "outputs": [],
   "source": [
    "import json\n",
    "import requests\n",
    "import urllib\n",
    "import pandas as pd\n",
    "import matplotlib.pyplot as plt\n",
    "\n",
    "\n",
    "def fix_next_url(next_url):\n",
    "    \"Return fixed next URL to download data from.\"\n",
    "    next_url_fixed = ''\n",
    "    for (key, val) in urllib.parse.parse_qsl(next_url):\n",
    "        if key != 'file_type':\n",
    "            next_url_fixed += key + '=' + val + '&'\n",
    "    return next_url_fixed\n",
    "\n"
   ]
  },
  {
   "cell_type": "code",
   "execution_count": 29,
   "metadata": {},
   "outputs": [],
   "source": [
    "# find recid, number of events, size for all AODSIM datasets\n",
    "myurl = 'http://opendata.cern.ch/api/records/?page=1&size=20&q=&file_type=aodsim'\n",
    "next_url = myurl\n",
    "\n",
    "d = []\n",
    "while next_url:\n",
    "    r = requests.get(next_url)\n",
    "    next_url = ''\n",
    "    if r:\n",
    "        data = r.json()\n",
    "        if data:\n",
    "            for rec in data['hits']['hits']:\n",
    "                d.append({'recid': rec['metadata']['recid'], \n",
    "                          'nevts': rec['metadata']['distribution']['number_events'],\n",
    "                          'size': rec['metadata']['distribution']['size']/1e6,\n",
    "                          'evtsize': (rec['metadata']['distribution']['size']/1e6)/(rec['metadata']['distribution']['number_events']),\n",
    "                          'year': rec['metadata']['date_created'][0],\n",
    "                          'primary': rec['metadata'].get('categories', {}).get('primary', 'UNKNOWN'),\n",
    "                          'secondary': rec['metadata'].get('categories', {}).get('secondary', 'UNKNOWN')[0]})\n",
    "            next_url = data.get('links', {}).get('next', '')\n",
    "            next_url = fix_next_url(next_url)\n",
    "        \n",
    "df = pd.DataFrame(d)\n",
    "        \n",
    "        "
   ]
  },
  {
   "cell_type": "code",
   "execution_count": 32,
   "metadata": {
    "collapsed": true
   },
   "outputs": [],
   "source": [
    "# find recid, number of events, size for all AODSIM datasets\n",
    "myurl = 'http://opendata.cern.ch/api/records/?page=1&size=20&q=&file_type=aod'\n",
    "next_url = myurl\n",
    "\n",
    "dd = []\n",
    "while next_url:\n",
    "    r = requests.get(next_url)\n",
    "    next_url = ''\n",
    "    if r:\n",
    "        data = r.json()\n",
    "        if data:\n",
    "            for rec in data['hits']['hits']:\n",
    "                dd.append({'recid': rec['metadata']['recid'], \n",
    "                          'nevts': rec['metadata']['distribution']['number_events'],\n",
    "                          'size': rec['metadata']['distribution']['size']/1e6,\n",
    "                          'evtsize': (rec['metadata']['distribution']['size']/1e6)/(rec['metadata']['distribution']['number_events']),\n",
    "                          'year': rec['metadata']['date_created'][0],\n",
    "                          'primary': rec['metadata'].get('categories', {}).get('primary', 'UNKNOWN'),\n",
    "                          'secondary': rec['metadata'].get('categories', {}).get('secondary', 'UNKNOWN')[0]})\n",
    "            next_url = data.get('links', {}).get('next', '')\n",
    "            next_url = fix_next_url(next_url)\n",
    "        \n",
    "ddf = pd.DataFrame(dd)"
   ]
  },
  {
   "cell_type": "code",
   "execution_count": 33,
   "metadata": {},
   "outputs": [
    {
     "data": {
      "text/html": [
       "<div>\n",
       "<table border=\"1\" class=\"dataframe\">\n",
       "  <thead>\n",
       "    <tr style=\"text-align: right;\">\n",
       "      <th></th>\n",
       "      <th>evtsize</th>\n",
       "      <th>nevts</th>\n",
       "      <th>primary</th>\n",
       "      <th>recid</th>\n",
       "      <th>secondary</th>\n",
       "      <th>size</th>\n",
       "      <th>year</th>\n",
       "    </tr>\n",
       "  </thead>\n",
       "  <tbody>\n",
       "    <tr>\n",
       "      <th>0</th>\n",
       "      <td>0.040297</td>\n",
       "      <td>103848957</td>\n",
       "      <td>UNKNOWN</td>\n",
       "      <td>78</td>\n",
       "      <td>U</td>\n",
       "      <td>4.184825e+06</td>\n",
       "      <td>2010</td>\n",
       "    </tr>\n",
       "    <tr>\n",
       "      <th>1</th>\n",
       "      <td>0.044373</td>\n",
       "      <td>67929392</td>\n",
       "      <td>UNKNOWN</td>\n",
       "      <td>82</td>\n",
       "      <td>U</td>\n",
       "      <td>3.014222e+06</td>\n",
       "      <td>2010</td>\n",
       "    </tr>\n",
       "    <tr>\n",
       "      <th>2</th>\n",
       "      <td>0.138010</td>\n",
       "      <td>75207487</td>\n",
       "      <td>UNKNOWN</td>\n",
       "      <td>29</td>\n",
       "      <td>U</td>\n",
       "      <td>1.037936e+07</td>\n",
       "      <td>2011</td>\n",
       "    </tr>\n",
       "    <tr>\n",
       "      <th>3</th>\n",
       "      <td>0.092923</td>\n",
       "      <td>23605303</td>\n",
       "      <td>UNKNOWN</td>\n",
       "      <td>73</td>\n",
       "      <td>U</td>\n",
       "      <td>2.193479e+06</td>\n",
       "      <td>2010</td>\n",
       "    </tr>\n",
       "    <tr>\n",
       "      <th>4</th>\n",
       "      <td>0.154356</td>\n",
       "      <td>33131255</td>\n",
       "      <td>UNKNOWN</td>\n",
       "      <td>25</td>\n",
       "      <td>U</td>\n",
       "      <td>5.114013e+06</td>\n",
       "      <td>2011</td>\n",
       "    </tr>\n",
       "  </tbody>\n",
       "</table>\n",
       "</div>"
      ],
      "text/plain": [
       "    evtsize      nevts  primary recid secondary          size  year\n",
       "0  0.040297  103848957  UNKNOWN    78         U  4.184825e+06  2010\n",
       "1  0.044373   67929392  UNKNOWN    82         U  3.014222e+06  2010\n",
       "2  0.138010   75207487  UNKNOWN    29         U  1.037936e+07  2011\n",
       "3  0.092923   23605303  UNKNOWN    73         U  2.193479e+06  2010\n",
       "4  0.154356   33131255  UNKNOWN    25         U  5.114013e+06  2011"
      ]
     },
     "execution_count": 33,
     "metadata": {},
     "output_type": "execute_result"
    }
   ],
   "source": [
    "ddf.head()"
   ]
  },
  {
   "cell_type": "code",
   "execution_count": 46,
   "metadata": {
    "scrolled": true
   },
   "outputs": [
    {
     "data": {
      "image/png": "[encoded data removed]",
      "text/plain": [
       "<matplotlib.figure.Figure at 0x1aa1706b550>"
      ]
     },
     "metadata": {},
     "output_type": "display_data"
    }
   ],
   "source": [
    "\n",
    "df10 = df[(df.year == '2010')]\n",
    "df11 = df[(df.year == '2011')]\n",
    "df12 = df[(df.year == '2012')]\n",
    "\n",
    "plt.hist(df10.evtsize, bins=100,  alpha=0.5, range=[0,0.6], label='2010 MC')\n",
    "plt.hist(df11.evtsize, bins=100,  alpha=0.5, range=[0,0.6], label='2011 MC')\n",
    "plt.hist(df12.evtsize, bins=100,  alpha=0.5, range=[0,0.6], label='2012 MC')\n",
    "plt.xlabel(\"Mb/event\")\n",
    "plt.ylabel(\"Datasets\")\n",
    "plt.title('Size per event for CMS Open data MC samples (AODSIM)\\n')\n",
    "plt.legend()\n",
    "plt.show()"
   ]
  },
  {
   "cell_type": "code",
   "execution_count": 38,
   "metadata": {},
   "outputs": [
    {
     "data": {
      "text/html": [
       "<div>\n",
       "<table border=\"1\" class=\"dataframe\">\n",
       "  <thead>\n",
       "    <tr style=\"text-align: right;\">\n",
       "      <th></th>\n",
       "      <th>evtsize</th>\n",
       "      <th>nevts</th>\n",
       "      <th>primary</th>\n",
       "      <th>recid</th>\n",
       "      <th>secondary</th>\n",
       "      <th>size</th>\n",
       "      <th>year</th>\n",
       "    </tr>\n",
       "  </thead>\n",
       "  <tbody>\n",
       "    <tr>\n",
       "      <th>327</th>\n",
       "      <td>3.682002</td>\n",
       "      <td>2969109</td>\n",
       "      <td>Standard Model Physics</td>\n",
       "      <td>12200</td>\n",
       "      <td>Top physics</td>\n",
       "      <td>1.093226e+07</td>\n",
       "      <td>2012</td>\n",
       "    </tr>\n",
       "    <tr>\n",
       "      <th>500</th>\n",
       "      <td>3.429388</td>\n",
       "      <td>1498800</td>\n",
       "      <td>Standard Model Physics</td>\n",
       "      <td>12201</td>\n",
       "      <td>QCD</td>\n",
       "      <td>5.139966e+06</td>\n",
       "      <td>2012</td>\n",
       "    </tr>\n",
       "    <tr>\n",
       "      <th>501</th>\n",
       "      <td>3.478400</td>\n",
       "      <td>1989000</td>\n",
       "      <td>Standard Model Physics</td>\n",
       "      <td>12202</td>\n",
       "      <td>QCD</td>\n",
       "      <td>6.918538e+06</td>\n",
       "      <td>2012</td>\n",
       "    </tr>\n",
       "    <tr>\n",
       "      <th>685</th>\n",
       "      <td>3.592248</td>\n",
       "      <td>2975400</td>\n",
       "      <td>Standard Model Physics</td>\n",
       "      <td>12203</td>\n",
       "      <td>QCD</td>\n",
       "      <td>1.068837e+07</td>\n",
       "      <td>2012</td>\n",
       "    </tr>\n",
       "  </tbody>\n",
       "</table>\n",
       "</div>"
      ],
      "text/plain": [
       "      evtsize    nevts                 primary  recid    secondary  \\\n",
       "327  3.682002  2969109  Standard Model Physics  12200  Top physics   \n",
       "500  3.429388  1498800  Standard Model Physics  12201          QCD   \n",
       "501  3.478400  1989000  Standard Model Physics  12202          QCD   \n",
       "685  3.592248  2975400  Standard Model Physics  12203          QCD   \n",
       "\n",
       "             size  year  \n",
       "327  1.093226e+07  2012  \n",
       "500  5.139966e+06  2012  \n",
       "501  6.918538e+06  2012  \n",
       "685  1.068837e+07  2012  "
      ]
     },
     "execution_count": 38,
     "metadata": {},
     "output_type": "execute_result"
    }
   ],
   "source": [
    "df12[(df12.evtsize > 3)]\n"
   ]
  },
  {
   "cell_type": "code",
   "execution_count": 44,
   "metadata": {},
   "outputs": [
    {
     "data": {
      "image/png": "[encoded data removed]",
      "text/plain": [
       "<matplotlib.figure.Figure at 0x1aa18410780>"
      ]
     },
     "metadata": {},
     "output_type": "display_data"
    }
   ],
   "source": [
    "ddf10 = ddf[(ddf.year == '2010')]\n",
    "ddf11 = ddf[(ddf.year == '2011')]\n",
    "ddf12 = ddf[(ddf.year == '2012')]\n",
    "\n",
    "plt.hist(ddf10.evtsize, bins=50,  alpha=0.5, range=[0,0.6], label='2010 data')\n",
    "plt.hist(ddf11.evtsize, bins=50,  alpha=0.5, range=[0,0.6], label='2011 data')\n",
    "plt.hist(ddf12.evtsize, bins=50,  alpha=0.5, range=[0,0.6], label='2012 data')\n",
    "plt.xlabel(\"Mb/event\")\n",
    "plt.ylabel(\"Datasets\")\n",
    "plt.title('Size per event for CMS Open data collision samples (AOD) \\n')\n",
    "plt.legend()\n",
    "plt.show()"
   ]
  },
  {
   "cell_type": "code",
   "execution_count": null,
   "metadata": {
    "collapsed": true
   },
   "outputs": [],
   "source": []
  }
 ],
 "metadata": {
  "kernelspec": {
   "display_name": "Python 3",
   "language": "python",
   "name": "python3"
  },
  "language_info": {
   "codemirror_mode": {
    "name": "ipython",
    "version": 3
   },
   "file_extension": ".py",
   "mimetype": "text/x-python",
   "name": "python",
   "nbconvert_exporter": "python",
   "pygments_lexer": "ipython3",
   "version": "3.6.0"
  }
 },
 "nbformat": 4,
 "nbformat_minor": 2
}
